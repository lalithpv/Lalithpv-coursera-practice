{
  "metadata": {
    "kernelspec": {
      "name": "python",
      "display_name": "Python (Pyodide)",
      "language": "python"
    },
    "language_info": {
      "codemirror_mode": {
        "name": "python",
        "version": 3
      },
      "file_extension": ".py",
      "mimetype": "text/x-python",
      "name": "python",
      "nbconvert_exporter": "python",
      "pygments_lexer": "ipython3",
      "version": "3.8"
    }
  },
  "nbformat_minor": 4,
  "nbformat": 4,
  "cells": [
    {
      "cell_type": "markdown",
      "source": "# Practice",
      "metadata": {}
    },
    {
      "cell_type": "markdown",
      "source": "## Introduction",
      "metadata": {}
    },
    {
      "cell_type": "markdown",
      "source": "### Data Science Languages\n- Python\n- R\n- SQL\n- Julia\n- Scala",
      "metadata": {}
    },
    {
      "cell_type": "markdown",
      "source": "### Data Science Libraries\n- Pandas\n- NumPy\n- Matplotlib\n- Scikit-learn\n- TensorFlow\n- Keras\n- PyTorch",
      "metadata": {}
    },
    {
      "cell_type": "markdown",
      "source": "### Data Science Tools\n\n| Tool          | Purpose                      |\n|---------------|------------------------------|\n| Jupyter       | Interactive notebooks         |\n| RStudio       | R programming environment     |\n| Pandas        | Data manipulation in Python   |\n| TensorFlow    | Deep learning library         |\n| Scikit-learn  | Machine learning library      |\n| Matplotlib    | Data visualization            |\n| Tableau       | Data visualization tool       |",
      "metadata": {}
    },
    {
      "cell_type": "markdown",
      "source": "### Arithmetic Expression Examples\n\n- **Addition**: `a + b` (e.g., `3 + 5 = 8`)\n- **Subtraction**: `a - b` (e.g., `10 - 4 = 6`)\n- **Multiplication**: `a * b` (e.g., `7 * 3 = 21`)\n- **Division**: `a / b` (e.g., `20 / 4 = 5`)\n- **Exponentiation**: `a ** b` (e.g., `2 ** 3 = 8`)\n",
      "metadata": {}
    },
    {
      "cell_type": "code",
      "source": "# Define two numbers\na = 5\nb = 10\nc = 3\n\n# Multiply and add\nmultiplication_result = a * b\naddition_result = multiplication_result + c\n\n# Display the results\nprint(f\"Multiplication of {a} and {b} is: {multiplication_result}\")\nprint(f\"Adding {c} to the multiplication result gives: {addition_result}\")",
      "metadata": {
        "trusted": true
      },
      "outputs": [
        {
          "name": "stdout",
          "text": "Multiplication of 5 and 10 is: 50\nAdding 3 to the multiplication result gives: 53\n",
          "output_type": "stream"
        }
      ],
      "execution_count": 2
    },
    {
      "cell_type": "code",
      "source": "# Function to convert minutes to hours\ndef convert_minutes_to_hours(minutes):\n    hours = minutes / 60\n    return hours\n\n# Example usage\nminutes = 150\nhours = convert_minutes_to_hours(minutes)\n\n# Display the result\nprint(f\"{minutes} minutes is equal to {hours} hours.\")",
      "metadata": {
        "trusted": true
      },
      "outputs": [
        {
          "name": "stdout",
          "text": "150 minutes is equal to 2.5 hours.\n",
          "output_type": "stream"
        }
      ],
      "execution_count": 1
    },
    {
      "cell_type": "markdown",
      "source": "### Objectives\n\nThe objectives of this project are as follows:\n\n- To understand the basic concepts of data science.\n- To learn how to manipulate and analyze data using Python.\n- To explore various data visualization techniques.\n- To apply machine learning algorithms to solve real-world problems.\n- To effectively communicate insights derived from data analysis.",
      "metadata": {}
    },
    {
      "cell_type": "markdown",
      "source": "### Author\n\nThis notebook is created by **[Lalith Pulla Venkata]**",
      "metadata": {}
    },
    {
      "cell_type": "code",
      "source": "",
      "metadata": {
        "trusted": true
      },
      "outputs": [],
      "execution_count": null
    }
  ]
}